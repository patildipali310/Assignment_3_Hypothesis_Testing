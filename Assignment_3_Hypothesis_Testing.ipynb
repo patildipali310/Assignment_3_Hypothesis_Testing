{
 "cells": [
  {
   "cell_type": "markdown",
   "id": "ed5b0c93",
   "metadata": {},
   "source": [
    "# Assingment_3"
   ]
  },
  {
   "cell_type": "code",
   "execution_count": 7,
   "id": "321609e5",
   "metadata": {},
   "outputs": [],
   "source": [
    "import numpy as np\n",
    "import pandas as pd\n",
    "import scipy\n",
    "import scipy.stats as stats\n",
    "from scipy.stats import chi2_contingency"
   ]
  },
  {
   "cell_type": "markdown",
   "id": "1d01b634",
   "metadata": {},
   "source": [
    "Q. 1) A F&B manager wants to determine whether there is any significant difference in the diameter of the cutlet between two units. A randomly selected sample of cutlets was collected from both units and measured? Analyze the data and draw inferences at 5% significance level. Please state the assumptions and tests that you carried out to check validity of the assumptions.\n",
    "\n",
    "\n",
    "     Minitab File : Cutlets.mtw\n"
   ]
  },
  {
   "cell_type": "code",
   "execution_count": 10,
   "id": "30a15537",
   "metadata": {},
   "outputs": [
    {
     "data": {
      "text/plain": [
       "Ttest_indResult(statistic=0.7228688704678063, pvalue=0.4722394724599501)"
      ]
     },
     "execution_count": 10,
     "metadata": {},
     "output_type": "execute_result"
    }
   ],
   "source": [
    "df = pd.read_csv(\"D:\\\\Data Science\\\\Assignments\\\\Cutlets.csv\")\n",
    "\n",
    "# H0 : Diameter of cutlet betweeen two units are different\n",
    "# Ha : Diameter of cutlet between two units are similar\n",
    "\n",
    "unit_a=df.iloc[:,0]\n",
    "#print(unit_a)\n",
    "unit_b=df.iloc[:,1]\n",
    "#print(unit_b)\n",
    "\n",
    "#2-sample 2-tail ttest, Syntax: stats.ttest_ind(array1,array2)   # ind = independent samples\n",
    "#p_value=stats.ttest_ind(unit_a,unit_b)\n",
    "stats.ttest_ind(unit_a,unit_b)\n",
    "\n",
    "# Here value of p is: 0.47 >0.05\n",
    "#Hence we accept the null hypothesis, and we conclude that their is a significant difference in \n",
    "#the diameter of the cutlet between two units."
   ]
  },
  {
   "cell_type": "markdown",
   "id": "68b1b48e",
   "metadata": {},
   "source": [
    "Q. 2) A hospital wants to determine whether there is any difference in the average Turn Around Time (TAT) of reports of the laboratories on their preferred list. They collected a random sample and recorded TAT for reports of 4 laboratories. TAT is defined as sample collected to report dispatch.\n",
    "   \n",
    "  Analyze the data and determine whether there is any difference in average TAT among the different laboratories at 5% significance level.\n",
    " \n",
    " \n",
    "    Minitab File: LabTAT.mtw\n"
   ]
  },
  {
   "cell_type": "code",
   "execution_count": 11,
   "id": "fddd8aa6",
   "metadata": {},
   "outputs": [
    {
     "name": "stdout",
     "output_type": "stream",
     "text": [
      "F_onewayResult(statistic=118.70421654401437, pvalue=2.1156708949992414e-57)\n"
     ]
    }
   ],
   "source": [
    "df=pd.read_csv(\"D:\\\\Data Science\\\\Assignments\\\\LabTAT.csv\")\n",
    "df.head()\n",
    "# H0 = The average TAT of reports are different\n",
    "# H1 = The average TAT of reports are same\n",
    "lab_1= df.iloc[:,0]\n",
    "lab_2= df.iloc[:,1]\n",
    "lab_3= df.iloc[:,2]\n",
    "lab_4= df.iloc[:,3]\n",
    "print(stats.f_oneway(lab_1,lab_2,lab_3,lab_4))\n",
    "\n",
    "# Here pvalue is: 2.11> 0.05.\n",
    "#Hence we accept null hpothesis, and conclude that their is a difference in the average turn \n",
    "#around time of reports of the laboratories."
   ]
  },
  {
   "cell_type": "markdown",
   "id": "92739034",
   "metadata": {},
   "source": [
    "Q. 3) Sales of products in four different regions is tabulated for males and females. Find if male-female buyer rations are similar across regions.\n"
   ]
  },
  {
   "cell_type": "code",
   "execution_count": 12,
   "id": "4e2972af",
   "metadata": {},
   "outputs": [
    {
     "name": "stdout",
     "output_type": "stream",
     "text": [
      "Ttest_indResult(statistic=-3.5844638979607404, pvalue=0.011580726207478622)\n"
     ]
    }
   ],
   "source": [
    "df=pd.read_csv(\"D:\\\\Data Science\\\\Assignments\\\\BuyerRatio.csv\")\n",
    "df.head()\n",
    "#H0 = All proportions are equal\n",
    "#Ha = Not all proportions are equal\n",
    "male = df.iloc[0,1:]\n",
    "female = df.iloc[1,1:]\n",
    "#print(male)\n",
    "#print(female)\n",
    "print(stats.ttest_ind(male,female))\n",
    "# Here pvalue= 0.01<0.05, Hence we rejest null hypothesis and say, Not all proportions are equal."
   ]
  },
  {
   "cell_type": "markdown",
   "id": "bffe61b0",
   "metadata": {},
   "source": [
    "Q. 4) TeleCall uses 4 centers around the globe to process customer order forms. They audit a certain %  of the customer order forms. Any error in order form renders it defective and has to be reworked before processing.  The manager wants to check whether the defective %  varies by centre. Please analyze the data at 5% significance level and help the manager draw appropriate inferences\n",
    "\n",
    "Minitab File: CustomerOrderForm.mtw\n",
    " \n"
   ]
  },
  {
   "cell_type": "code",
   "execution_count": 14,
   "id": "69a27d5d",
   "metadata": {},
   "outputs": [
    {
     "name": "stdout",
     "output_type": "stream",
     "text": [
      "['Error Free' 'Defective']\n",
      "['Error Free' 'Defective']\n",
      "['Defective' 'Error Free']\n",
      "['Error Free' 'Defective']\n",
      "Error Free    271\n",
      "Defective      29\n",
      "Name: Phillippines, dtype: int64\n",
      "Error Free    267\n",
      "Defective      33\n",
      "Name: Indonesia, dtype: int64\n",
      "Error Free    269\n",
      "Defective      31\n",
      "Name: Malta, dtype: int64\n",
      "Error Free    280\n",
      "Defective      20\n",
      "Name: India, dtype: int64\n"
     ]
    },
    {
     "data": {
      "text/plain": [
       "(3.858960685820355,\n",
       " 0.2771020991233135,\n",
       " 3,\n",
       " array([[271.75, 271.75, 271.75, 271.75],\n",
       "        [ 28.25,  28.25,  28.25,  28.25]]))"
      ]
     },
     "execution_count": 14,
     "metadata": {},
     "output_type": "execute_result"
    }
   ],
   "source": [
    "df= pd.read_csv(\"D:\\\\Data Science\\\\Assignments\\\\Costomer+OrderForm.csv\")\n",
    "#print(df.head())\n",
    "# H0 :  Independence of categorical variables (customer order forms defective % does not varies by centre) \n",
    "# Ha : Dependence of categorical variables (customer order forms defective % varies by centre)\n",
    "\n",
    "print(df[\"Phillippines\"].unique())\n",
    "print(df[\"Indonesia\"].unique())\n",
    "print(df[\"Malta\"].unique())\n",
    "print(df[\"India\"].unique())\n",
    "\n",
    "print(df[\"Phillippines\"].value_counts())\n",
    "print(df[\"Indonesia\"].value_counts())\n",
    "print(df[\"Malta\"].value_counts())\n",
    "print(df[\"India\"].value_counts())\n",
    "\n",
    "data= pd.DataFrame([[271,267,269,280],[29,33,31,20]])\n",
    "data\n",
    "chi2_contingency(data)  # Output  is:  (Chi2 stats value, p_value, df, expected obsvations)\n",
    "\n",
    "#Inference: As (p_value = 0.2771) > (α = 0.05); Accept Null Hypothesis i.e. Independence of categorical variables Thus, customer order forms defective % does not varies by centre.\n",
    "# Variables are independent, there is a no relationship between two-categorical variables, knowing the value of one-variable does not help to predict value of other variable."
   ]
  },
  {
   "cell_type": "code",
   "execution_count": null,
   "id": "8747fc55",
   "metadata": {},
   "outputs": [],
   "source": []
  },
  {
   "cell_type": "code",
   "execution_count": null,
   "id": "415b1ccc",
   "metadata": {},
   "outputs": [],
   "source": []
  },
  {
   "cell_type": "code",
   "execution_count": null,
   "id": "d1bd5776",
   "metadata": {},
   "outputs": [],
   "source": []
  }
 ],
 "metadata": {
  "kernelspec": {
   "display_name": "Python 3 (ipykernel)",
   "language": "python",
   "name": "python3"
  },
  "language_info": {
   "codemirror_mode": {
    "name": "ipython",
    "version": 3
   },
   "file_extension": ".py",
   "mimetype": "text/x-python",
   "name": "python",
   "nbconvert_exporter": "python",
   "pygments_lexer": "ipython3",
   "version": "3.9.12"
  }
 },
 "nbformat": 4,
 "nbformat_minor": 5
}
